{
  "cells": [
    {
      "cell_type": "markdown",
      "metadata": {
        "colab_type": "text",
        "id": "view-in-github"
      },
      "source": [
        "<a href=\"https://colab.research.google.com/github/arthurziegler/pytorch-deep-learning-course/blob/main/Notebooks/PyTorch_Text_Preprocessing.ipynb\" target=\"_parent\"><img src=\"https://colab.research.google.com/assets/colab-badge.svg\" alt=\"Open In Colab\"/></a>"
      ]
    },
    {
      "cell_type": "code",
      "execution_count": 18,
      "metadata": {
        "colab": {
          "base_uri": "https://localhost:8080/"
        },
        "id": "RFsZsUZxVHED",
        "outputId": "f4c2dccd-a639-40b9-eb40-060b7fd8d29e"
      },
      "outputs": [],
      "source": [
        "#!pip install torchtext==0.8.1"
      ]
    },
    {
      "cell_type": "code",
      "execution_count": 19,
      "metadata": {
        "id": "X0N0Bt07QdQm"
      },
      "outputs": [],
      "source": [
        "import torch\n",
        "import torch.nn as nn\n",
        "#import torchtext.data as ttd\n",
        "import numpy as np\n",
        "import pandas as pd\n",
        "import matplotlib.pyplot as plt\n",
        "import re\n",
        "from datetime import datetime"
      ]
    },
    {
      "cell_type": "code",
      "execution_count": 20,
      "metadata": {
        "id": "J2szUi0yyjku"
      },
      "outputs": [],
      "source": [
        "# Let's make some fake data!\n",
        "data = {\n",
        "    \"label\": [0, 1, 1],\n",
        "    \"data\": [\n",
        "        \"I like eggs and ham.\",\n",
        "        \"Eggs I like!\",\n",
        "        \"Ham and eggs or just ham?\",\n",
        "    ]\n",
        "}"
      ]
    },
    {
      "cell_type": "code",
      "execution_count": 21,
      "metadata": {
        "id": "-8z6L8Njy0uf"
      },
      "outputs": [],
      "source": [
        "df = pd.DataFrame(data)"
      ]
    },
    {
      "cell_type": "code",
      "execution_count": 22,
      "metadata": {
        "colab": {
          "base_uri": "https://localhost:8080/",
          "height": 142
        },
        "id": "5qO4GDkey4hd",
        "outputId": "ee247650-6147-4f2b-88bd-342fea039f3b"
      },
      "outputs": [
        {
          "data": {
            "text/html": [
              "<div>\n",
              "<style scoped>\n",
              "    .dataframe tbody tr th:only-of-type {\n",
              "        vertical-align: middle;\n",
              "    }\n",
              "\n",
              "    .dataframe tbody tr th {\n",
              "        vertical-align: top;\n",
              "    }\n",
              "\n",
              "    .dataframe thead th {\n",
              "        text-align: right;\n",
              "    }\n",
              "</style>\n",
              "<table border=\"1\" class=\"dataframe\">\n",
              "  <thead>\n",
              "    <tr style=\"text-align: right;\">\n",
              "      <th></th>\n",
              "      <th>label</th>\n",
              "      <th>data</th>\n",
              "    </tr>\n",
              "  </thead>\n",
              "  <tbody>\n",
              "    <tr>\n",
              "      <th>0</th>\n",
              "      <td>0</td>\n",
              "      <td>I like eggs and ham.</td>\n",
              "    </tr>\n",
              "    <tr>\n",
              "      <th>1</th>\n",
              "      <td>1</td>\n",
              "      <td>Eggs I like!</td>\n",
              "    </tr>\n",
              "    <tr>\n",
              "      <th>2</th>\n",
              "      <td>1</td>\n",
              "      <td>Ham and eggs or just ham?</td>\n",
              "    </tr>\n",
              "  </tbody>\n",
              "</table>\n",
              "</div>"
            ],
            "text/plain": [
              "   label                       data\n",
              "0      0       I like eggs and ham.\n",
              "1      1               Eggs I like!\n",
              "2      1  Ham and eggs or just ham?"
            ]
          },
          "execution_count": 22,
          "metadata": {},
          "output_type": "execute_result"
        }
      ],
      "source": [
        "df.head()"
      ]
    },
    {
      "cell_type": "code",
      "execution_count": 23,
      "metadata": {
        "id": "hlgbM1PVWgkm"
      },
      "outputs": [],
      "source": [
        "#df.to_csv('thedata.csv', index=False)"
      ]
    },
    {
      "cell_type": "code",
      "execution_count": 24,
      "metadata": {
        "id": "Yv9IES5pzYYT"
      },
      "outputs": [],
      "source": [
        "#!head thedata.csv"
      ]
    },
    {
      "cell_type": "code",
      "execution_count": 25,
      "metadata": {
        "colab": {
          "base_uri": "https://localhost:8080/"
        },
        "id": "QFMuv5sZQke5",
        "outputId": "9a3c3298-ccb4-4adf-d238-4ecb89227bcf"
      },
      "outputs": [
        {
          "name": "stdout",
          "output_type": "stream",
          "text": [
            "{None: 1, '<Unknown>': 0, 'i': 2, 'like': 3, 'eggs': 4, 'and': 5, 'ham': 6, '.': 7, '!': 8, 'or': 9, 'just': 10, '?': 11}\n",
            "[[None 'i' 'like' 'eggs' 'and' 'ham' '.']\n",
            " [None None None 'eggs' 'i' 'like' '!']\n",
            " ['ham' 'and' 'eggs' 'or' 'just' 'ham' '?']]\n",
            "[[1 2 3 4 5 6 7]\n",
            " [1 1 1 4 2 3 8]\n",
            " [6 5 4 9 10 6 11]]\n"
          ]
        },
        {
          "name": "stderr",
          "output_type": "stream",
          "text": [
            "C:\\Users\\arthu\\anaconda3\\envs\\Deep Learning\\lib\\site-packages\\pandas\\core\\indexing.py:1732: SettingWithCopyWarning: \n",
            "A value is trying to be set on a copy of a slice from a DataFrame\n",
            "\n",
            "See the caveats in the documentation: https://pandas.pydata.org/pandas-docs/stable/user_guide/indexing.html#returning-a-view-versus-a-copy\n",
            "  self._setitem_single_block(indexer, value, name)\n"
          ]
        },
        {
          "data": {
            "text/plain": [
              "array([[1, 2, 3, 4, 5, 6, 7],\n",
              "       [1, 1, 1, 4, 2, 3, 8],\n",
              "       [6, 5, 4, 9, 10, 6, 11]], dtype=object)"
            ]
          },
          "execution_count": 25,
          "metadata": {},
          "output_type": "execute_result"
        }
      ],
      "source": [
        "def inputPreProcessing(input_data):\n",
        "    processed_data = pd.DataFrame()\n",
        "\n",
        "    # Add space before final ponctuation to prepare for split\n",
        "    for index, row in input_data.iteritems():\n",
        "        if re.match(r'\\W', row[-1]):\n",
        "            input_data.iloc[index] = row[:-1] + ' ' + row[-1]\n",
        "\n",
        "    processed_data = input_data.str.lower()\n",
        "    processed_data = processed_data.str.rsplit(expand=True)\n",
        "\n",
        "    # Change padding 'None' from post to pre-padding\n",
        "    processed_data = processed_data.to_numpy()\n",
        "    for index, document in enumerate(processed_data):\n",
        "        while(document[-1] == None):\n",
        "            document = np.roll(document, 1)\n",
        "        processed_data[index] = document\n",
        "\n",
        "    # Create dictionary that will work as the vocabulary of the dataset\n",
        "    dataset = list(processed_data.flatten())\n",
        "    current_idx = 2 #leave 0 and 1 for padding and unknow words\n",
        "    word2idx = {}\n",
        "    word2idx[None] = 1\n",
        "    word2idx['<Unknown>'] = 0\n",
        "    for word in dataset:\n",
        "        if word not in word2idx:\n",
        "            word2idx[word] = current_idx\n",
        "            current_idx += 1\n",
        "    print(word2idx)\n",
        "    print(processed_data)\n",
        "\n",
        "    # Change tokens from word to integer\n",
        "    for idx_doc, document in enumerate(processed_data):\n",
        "        for idx_word, word in enumerate(document):\n",
        "            processed_data[idx_doc, idx_word] = word2idx[word]\n",
        "            #print(idx_doc, document, idx_word, word)\n",
        "    \n",
        "    print(processed_data)\n",
        "    return processed_data\n",
        "\n",
        "\n",
        "input_processed = inputPreProcessing(df['data'])\n",
        "input_processed"
      ]
    },
    {
      "cell_type": "code",
      "execution_count": 26,
      "metadata": {
        "id": "6hS3eltrzeke"
      },
      "outputs": [],
      "source": [
        "#ex = dataset.examples[0]"
      ]
    },
    {
      "cell_type": "code",
      "execution_count": 27,
      "metadata": {
        "colab": {
          "base_uri": "https://localhost:8080/"
        },
        "id": "FDkn4P9a4H0P",
        "outputId": "04c30622-8412-4e6b-bd6e-db8ca801d139"
      },
      "outputs": [],
      "source": [
        "#type(ex)"
      ]
    },
    {
      "cell_type": "code",
      "execution_count": 28,
      "metadata": {
        "colab": {
          "base_uri": "https://localhost:8080/"
        },
        "id": "l728QWX3zkxM",
        "outputId": "0bcbd8ce-8f8c-4560-d20e-2cbea09cdd26"
      },
      "outputs": [],
      "source": [
        "#ex.data"
      ]
    },
    {
      "cell_type": "code",
      "execution_count": 29,
      "metadata": {
        "colab": {
          "base_uri": "https://localhost:8080/",
          "height": 35
        },
        "id": "TyO1xB9dzrdY",
        "outputId": "e07f8d46-c97c-46e5-9100-b73637761ed2"
      },
      "outputs": [],
      "source": [
        "#ex.label"
      ]
    },
    {
      "cell_type": "code",
      "execution_count": 30,
      "metadata": {
        "id": "xmdkw_zFWp9E"
      },
      "outputs": [],
      "source": [
        "#train_dataset, test_dataset = dataset.split(0.66) # default is 0.7"
      ]
    },
    {
      "cell_type": "code",
      "execution_count": 31,
      "metadata": {
        "colab": {
          "base_uri": "https://localhost:8080/"
        },
        "id": "KmTea-vv_Ht5",
        "outputId": "6b186700-40b3-4a43-be31-b364fea99f4a"
      },
      "outputs": [],
      "source": [
        "#for ex in train_dataset.examples:\n",
        "#  print(ex.data)"
      ]
    },
    {
      "cell_type": "code",
      "execution_count": 32,
      "metadata": {
        "id": "czCW945vZh8y"
      },
      "outputs": [],
      "source": [
        "#TEXT.build_vocab(train_dataset,)"
      ]
    },
    {
      "cell_type": "code",
      "execution_count": 33,
      "metadata": {
        "colab": {
          "base_uri": "https://localhost:8080/"
        },
        "id": "56Bz-9U4ZvuE",
        "outputId": "c76c08f0-4251-4584-802d-83f46fe97f52"
      },
      "outputs": [],
      "source": [
        "#vocab = TEXT.vocab\n",
        "#type(vocab)"
      ]
    },
    {
      "cell_type": "code",
      "execution_count": 34,
      "metadata": {
        "colab": {
          "base_uri": "https://localhost:8080/"
        },
        "id": "ym__wP2NZy9f",
        "outputId": "4bd0149b-0aad-436a-a6e5-8cfd48505722"
      },
      "outputs": [],
      "source": [
        "#vocab.stoi"
      ]
    },
    {
      "cell_type": "code",
      "execution_count": 35,
      "metadata": {
        "colab": {
          "base_uri": "https://localhost:8080/"
        },
        "id": "ZIvdAEh6bfCO",
        "outputId": "c1a0e680-1750-4ec0-b8f3-7b36c897bd67"
      },
      "outputs": [],
      "source": [
        "#vocab.itos"
      ]
    },
    {
      "cell_type": "code",
      "execution_count": 51,
      "metadata": {},
      "outputs": [],
      "source": [
        "from sklearn.model_selection import train_test_split\n",
        "tr_inputs, tst_inputs, tr_labels, tst_labels = train_test_split(input_processed, df['label'].to_numpy(), test_size=0.33)"
      ]
    },
    {
      "cell_type": "code",
      "execution_count": 52,
      "metadata": {},
      "outputs": [],
      "source": [
        "tr_inputs = torch.tensor(tr_inputs.astype(np.int32))\n",
        "tst_inputs = torch.tensor(tst_inputs.astype(np.int32))\n",
        "tr_labels = torch.tensor(tr_labels.astype(np.int32))\n",
        "tst_labels = torch.tensor(tst_labels.astype(np.int32))"
      ]
    },
    {
      "cell_type": "code",
      "execution_count": 55,
      "metadata": {},
      "outputs": [
        {
          "data": {
            "text/plain": [
              "tensor([0, 1], dtype=torch.int32)"
            ]
          },
          "execution_count": 55,
          "metadata": {},
          "output_type": "execute_result"
        }
      ],
      "source": [
        "tr_labels"
      ]
    },
    {
      "cell_type": "code",
      "execution_count": 54,
      "metadata": {
        "colab": {
          "base_uri": "https://localhost:8080/"
        },
        "id": "AEtkVKc3YnDx",
        "outputId": "7d6fb791-3226-48a9-c84e-245a0a64e8f1"
      },
      "outputs": [
        {
          "name": "stdout",
          "output_type": "stream",
          "text": [
            "cuda:0\n"
          ]
        }
      ],
      "source": [
        "device = torch.device(\"cuda:0\" if torch.cuda.is_available() else \"cpu\")\n",
        "print(device)"
      ]
    },
    {
      "cell_type": "code",
      "execution_count": 57,
      "metadata": {},
      "outputs": [],
      "source": [
        "from torch.utils.data import TensorDataset, DataLoader, RandomSampler, SequentialSampler\n",
        "bs = 2\n",
        "\n",
        "train_data = TensorDataset(tr_inputs, tr_labels)\n",
        "train_sampler = RandomSampler(train_data)\n",
        "train_dataloader = DataLoader(train_data, sampler=train_sampler, batch_size=bs)\n",
        "\n",
        "test_data = TensorDataset(tst_inputs, tst_labels)\n",
        "test_sampler = SequentialSampler(tst_inputs)\n",
        "test_dataloader = DataLoader(test_data, sampler=test_sampler, batch_size=bs)"
      ]
    },
    {
      "cell_type": "code",
      "execution_count": null,
      "metadata": {
        "colab": {
          "base_uri": "https://localhost:8080/"
        },
        "id": "iQ7viCd4Xhm4",
        "outputId": "99f61c1a-d479-4155-ec07-26ff241c2169"
      },
      "outputs": [
        {
          "name": "stderr",
          "output_type": "stream",
          "text": [
            "/usr/local/lib/python3.7/dist-packages/torchtext/data/iterator.py:48: UserWarning: Iterator class will be retired soon and moved to torchtext.legacy. Please see the most recent release notes for further information.\n",
            "  warnings.warn('{} class will be retired soon and moved to torchtext.legacy. Please see the most recent release notes for further information.'.format(self.__class__.__name__), UserWarning)\n"
          ]
        }
      ],
      "source": [
        "#train_iter, test_iter = ttd.Iterator.splits(\n",
        "#        (train_dataset, test_dataset), sort_key=lambda x: len(x.data),\n",
        "#       batch_sizes=(2, 2), device=device)"
      ]
    },
    {
      "cell_type": "code",
      "execution_count": null,
      "metadata": {
        "colab": {
          "base_uri": "https://localhost:8080/"
        },
        "id": "rNUrzBMDXvme",
        "outputId": "dc4011cd-823f-47d1-80f6-1e5612275ee3"
      },
      "outputs": [
        {
          "name": "stderr",
          "output_type": "stream",
          "text": [
            "/usr/local/lib/python3.7/dist-packages/torchtext/data/batch.py:23: UserWarning: Batch class will be retired soon and moved to torchtext.legacy. Please see the most recent release notes for further information.\n",
            "  warnings.warn('{} class will be retired soon and moved to torchtext.legacy. Please see the most recent release notes for further information.'.format(self.__class__.__name__), UserWarning)\n"
          ]
        },
        {
          "name": "stdout",
          "output_type": "stream",
          "text": [
            "inputs: tensor([[ 1,  1,  1,  2,  7,  9,  4],\n",
            "        [ 3,  6,  2, 10,  8,  3,  5]], device='cuda:0') shape: torch.Size([2, 7])\n",
            "targets: tensor([1, 1], device='cuda:0') shape: torch.Size([2])\n"
          ]
        }
      ],
      "source": [
        "for inputs, targets in train_iter:\n",
        "  print(\"inputs:\", inputs, \"shape:\", inputs.shape)\n",
        "  print(\"targets:\", targets, \"shape:\", targets.shape)\n",
        "  break"
      ]
    },
    {
      "cell_type": "code",
      "execution_count": 58,
      "metadata": {},
      "outputs": [
        {
          "name": "stdout",
          "output_type": "stream",
          "text": [
            "inputs: tensor([[ 1,  2,  3,  4,  5,  6,  7],\n",
            "        [ 6,  5,  4,  9, 10,  6, 11]], dtype=torch.int32) shape: torch.Size([2, 7])\n",
            "targets: tensor([0, 1], dtype=torch.int32) shape: torch.Size([2])\n"
          ]
        }
      ],
      "source": [
        "for inputs, targets in train_dataloader:\n",
        "  print(\"inputs:\", inputs, \"shape:\", inputs.shape)\n",
        "  print(\"targets:\", targets, \"shape:\", targets.shape)\n",
        "  break"
      ]
    },
    {
      "cell_type": "code",
      "execution_count": null,
      "metadata": {
        "colab": {
          "base_uri": "https://localhost:8080/"
        },
        "id": "1a2N3EffbbF-",
        "outputId": "df3e4c36-1e52-42ca-a61c-4f4c85aabb9c"
      },
      "outputs": [
        {
          "name": "stdout",
          "output_type": "stream",
          "text": [
            "inputs: tensor([[7, 9, 2, 6, 3, 0]], device='cuda:0') shape: torch.Size([1, 6])\n",
            "targets: tensor([0], device='cuda:0') shape: torch.Size([1])\n"
          ]
        },
        {
          "name": "stderr",
          "output_type": "stream",
          "text": [
            "/usr/local/lib/python3.7/dist-packages/torchtext/data/batch.py:23: UserWarning: Batch class will be retired soon and moved to torchtext.legacy. Please see the most recent release notes for further information.\n",
            "  warnings.warn('{} class will be retired soon and moved to torchtext.legacy. Please see the most recent release notes for further information.'.format(self.__class__.__name__), UserWarning)\n"
          ]
        }
      ],
      "source": [
        "for inputs, targets in test_iter:\n",
        "  print(\"inputs:\", inputs, \"shape:\", inputs.shape)\n",
        "  print(\"targets:\", targets, \"shape:\", targets.shape)\n",
        "  break"
      ]
    },
    {
      "cell_type": "code",
      "execution_count": 59,
      "metadata": {},
      "outputs": [
        {
          "name": "stdout",
          "output_type": "stream",
          "text": [
            "inputs: tensor([[1, 1, 1, 4, 2, 3, 8]], dtype=torch.int32) shape: torch.Size([1, 7])\n",
            "targets: tensor([1], dtype=torch.int32) shape: torch.Size([1])\n"
          ]
        }
      ],
      "source": [
        "for inputs, targets in test_dataloader:\n",
        "  print(\"inputs:\", inputs, \"shape:\", inputs.shape)\n",
        "  print(\"targets:\", targets, \"shape:\", targets.shape)\n",
        "  break"
      ]
    },
    {
      "cell_type": "code",
      "execution_count": null,
      "metadata": {
        "id": "UNatFNLo0oWx"
      },
      "outputs": [],
      "source": [
        "# Exericise: Figure out which sequence of integers goes with which sentence."
      ]
    }
  ],
  "metadata": {
    "accelerator": "GPU",
    "colab": {
      "include_colab_link": true,
      "name": "PyTorch Text Preprocessing.ipynb",
      "provenance": []
    },
    "interpreter": {
      "hash": "ba5b3f7521f7aea3d786a4bde6a43384960ac350401fd3bc258a0740b79cfc42"
    },
    "kernelspec": {
      "display_name": "Python 3.8.11 64-bit ('Deep Learning': conda)",
      "name": "python3"
    },
    "language_info": {
      "codemirror_mode": {
        "name": "ipython",
        "version": 3
      },
      "file_extension": ".py",
      "mimetype": "text/x-python",
      "name": "python",
      "nbconvert_exporter": "python",
      "pygments_lexer": "ipython3",
      "version": "3.8.11"
    }
  },
  "nbformat": 4,
  "nbformat_minor": 0
}
