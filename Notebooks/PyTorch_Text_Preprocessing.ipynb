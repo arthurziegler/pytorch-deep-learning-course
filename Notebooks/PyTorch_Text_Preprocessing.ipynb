{
  "nbformat": 4,
  "nbformat_minor": 0,
  "metadata": {
    "colab": {
      "name": "PyTorch Text Preprocessing.ipynb",
      "provenance": [],
      "include_colab_link": true
    },
    "kernelspec": {
      "name": "python3",
      "display_name": "Python 3"
    },
    "accelerator": "GPU"
  },
  "cells": [
    {
      "cell_type": "markdown",
      "metadata": {
        "id": "view-in-github",
        "colab_type": "text"
      },
      "source": [
        "<a href=\"https://colab.research.google.com/github/arthurziegler/pytorch-deep-learning-course/blob/main/Notebooks/PyTorch_Text_Preprocessing.ipynb\" target=\"_parent\"><img src=\"https://colab.research.google.com/assets/colab-badge.svg\" alt=\"Open In Colab\"/></a>"
      ]
    },
    {
      "cell_type": "code",
      "metadata": {
        "colab": {
          "base_uri": "https://localhost:8080/"
        },
        "id": "RFsZsUZxVHED",
        "outputId": "97dd4eeb-1234-46d2-a31c-6bd55025a6f8"
      },
      "source": [
        "!pip install torchtext==0.8.1"
      ],
      "execution_count": null,
      "outputs": [
        {
          "output_type": "stream",
          "text": [
            "Collecting torchtext==0.8.1\n",
            "  Downloading torchtext-0.8.1-cp37-cp37m-manylinux1_x86_64.whl (7.0 MB)\n",
            "\u001b[K     |████████████████████████████████| 7.0 MB 6.2 MB/s \n",
            "\u001b[?25hRequirement already satisfied: numpy in /usr/local/lib/python3.7/dist-packages (from torchtext==0.8.1) (1.19.5)\n",
            "Requirement already satisfied: requests in /usr/local/lib/python3.7/dist-packages (from torchtext==0.8.1) (2.23.0)\n",
            "Requirement already satisfied: tqdm in /usr/local/lib/python3.7/dist-packages (from torchtext==0.8.1) (4.41.1)\n",
            "Collecting torch==1.7.1\n",
            "  Downloading torch-1.7.1-cp37-cp37m-manylinux1_x86_64.whl (776.8 MB)\n",
            "\u001b[K     |████████████████████████████████| 776.8 MB 18 kB/s \n",
            "\u001b[?25hRequirement already satisfied: typing-extensions in /usr/local/lib/python3.7/dist-packages (from torch==1.7.1->torchtext==0.8.1) (3.7.4.3)\n",
            "Requirement already satisfied: urllib3!=1.25.0,!=1.25.1,<1.26,>=1.21.1 in /usr/local/lib/python3.7/dist-packages (from requests->torchtext==0.8.1) (1.24.3)\n",
            "Requirement already satisfied: idna<3,>=2.5 in /usr/local/lib/python3.7/dist-packages (from requests->torchtext==0.8.1) (2.10)\n",
            "Requirement already satisfied: certifi>=2017.4.17 in /usr/local/lib/python3.7/dist-packages (from requests->torchtext==0.8.1) (2021.5.30)\n",
            "Requirement already satisfied: chardet<4,>=3.0.2 in /usr/local/lib/python3.7/dist-packages (from requests->torchtext==0.8.1) (3.0.4)\n",
            "Installing collected packages: torch, torchtext\n",
            "  Attempting uninstall: torch\n",
            "    Found existing installation: torch 1.9.0+cu102\n",
            "    Uninstalling torch-1.9.0+cu102:\n",
            "      Successfully uninstalled torch-1.9.0+cu102\n",
            "  Attempting uninstall: torchtext\n",
            "    Found existing installation: torchtext 0.10.0\n",
            "    Uninstalling torchtext-0.10.0:\n",
            "      Successfully uninstalled torchtext-0.10.0\n",
            "\u001b[31mERROR: pip's dependency resolver does not currently take into account all the packages that are installed. This behaviour is the source of the following dependency conflicts.\n",
            "torchvision 0.10.0+cu102 requires torch==1.9.0, but you have torch 1.7.1 which is incompatible.\u001b[0m\n",
            "Successfully installed torch-1.7.1 torchtext-0.8.1\n"
          ],
          "name": "stdout"
        }
      ]
    },
    {
      "cell_type": "code",
      "metadata": {
        "id": "X0N0Bt07QdQm"
      },
      "source": [
        "import torch\n",
        "import torch.nn as nn\n",
        "import torchtext.data as ttd\n",
        "import numpy as np\n",
        "import pandas as pd\n",
        "import matplotlib.pyplot as plt\n",
        "from datetime import datetime"
      ],
      "execution_count": null,
      "outputs": []
    },
    {
      "cell_type": "code",
      "metadata": {
        "id": "J2szUi0yyjku"
      },
      "source": [
        "# Let's make some fake data!\n",
        "data = {\n",
        "    \"label\": [0, 1, 1],\n",
        "    \"data\": [\n",
        "        \"I like eggs and ham.\",\n",
        "        \"Eggs I like!\",\n",
        "        \"Ham and eggs or just ham?\",\n",
        "    ]\n",
        "}"
      ],
      "execution_count": null,
      "outputs": []
    },
    {
      "cell_type": "code",
      "metadata": {
        "id": "-8z6L8Njy0uf"
      },
      "source": [
        "df = pd.DataFrame(data)"
      ],
      "execution_count": null,
      "outputs": []
    },
    {
      "cell_type": "code",
      "metadata": {
        "id": "5qO4GDkey4hd",
        "colab": {
          "base_uri": "https://localhost:8080/",
          "height": 142
        },
        "outputId": "aa8b7fc6-dad7-4178-fc9d-ab066b5f7896"
      },
      "source": [
        "df.head()"
      ],
      "execution_count": null,
      "outputs": [
        {
          "output_type": "execute_result",
          "data": {
            "text/html": [
              "<div>\n",
              "<style scoped>\n",
              "    .dataframe tbody tr th:only-of-type {\n",
              "        vertical-align: middle;\n",
              "    }\n",
              "\n",
              "    .dataframe tbody tr th {\n",
              "        vertical-align: top;\n",
              "    }\n",
              "\n",
              "    .dataframe thead th {\n",
              "        text-align: right;\n",
              "    }\n",
              "</style>\n",
              "<table border=\"1\" class=\"dataframe\">\n",
              "  <thead>\n",
              "    <tr style=\"text-align: right;\">\n",
              "      <th></th>\n",
              "      <th>label</th>\n",
              "      <th>data</th>\n",
              "    </tr>\n",
              "  </thead>\n",
              "  <tbody>\n",
              "    <tr>\n",
              "      <th>0</th>\n",
              "      <td>0</td>\n",
              "      <td>I like eggs and ham.</td>\n",
              "    </tr>\n",
              "    <tr>\n",
              "      <th>1</th>\n",
              "      <td>1</td>\n",
              "      <td>Eggs I like!</td>\n",
              "    </tr>\n",
              "    <tr>\n",
              "      <th>2</th>\n",
              "      <td>1</td>\n",
              "      <td>Ham and eggs or just ham?</td>\n",
              "    </tr>\n",
              "  </tbody>\n",
              "</table>\n",
              "</div>"
            ],
            "text/plain": [
              "   label                       data\n",
              "0      0       I like eggs and ham.\n",
              "1      1               Eggs I like!\n",
              "2      1  Ham and eggs or just ham?"
            ]
          },
          "metadata": {
            "tags": []
          },
          "execution_count": 5
        }
      ]
    },
    {
      "cell_type": "code",
      "metadata": {
        "id": "hlgbM1PVWgkm"
      },
      "source": [
        "df.to_csv('thedata.csv', index=False)"
      ],
      "execution_count": null,
      "outputs": []
    },
    {
      "cell_type": "code",
      "metadata": {
        "id": "Yv9IES5pzYYT",
        "colab": {
          "base_uri": "https://localhost:8080/"
        },
        "outputId": "c789e67c-37aa-4f49-dba1-f87182d68f1e"
      },
      "source": [
        "!head thedata.csv"
      ],
      "execution_count": null,
      "outputs": [
        {
          "output_type": "stream",
          "text": [
            "label,data\n",
            "0,I like eggs and ham.\n",
            "1,Eggs I like!\n",
            "1,Ham and eggs or just ham?\n"
          ],
          "name": "stdout"
        }
      ]
    },
    {
      "cell_type": "code",
      "metadata": {
        "id": "QFMuv5sZQke5",
        "colab": {
          "base_uri": "https://localhost:8080/"
        },
        "outputId": "d2cea54a-9b22-400c-80cd-68114ead34de"
      },
      "source": [
        "TEXT = ttd.Field(\n",
        "    sequential=True,\n",
        "    batch_first=True,\n",
        "    lower=True,\n",
        "    tokenize='spacy',\n",
        "    pad_first=True)\n",
        "LABEL = ttd.Field(sequential=False, use_vocab=False, is_target=True)\n",
        "\n",
        "# Note: if you don't specify use_vocab=False, then PyTorch will\n",
        "# complain later when you try to iterate over the dataset that\n",
        "# the attribute `vocab` doesn't exist.\n",
        "\n",
        "# Note 2: if you don't specify is_target=True, then PyTorch will\n",
        "# assume it's part of the input, so when you iterate over the\n",
        "# dataset it will be like:\n",
        "# for (inputs, targets), _ in iterator:\n",
        "# where the 2nd element (_) should have been the target.\n",
        "\n",
        "dataset = ttd.TabularDataset(\n",
        "    path='thedata.csv',\n",
        "    format='csv',\n",
        "    skip_header=True,\n",
        "    fields=[('label', LABEL), ('data', TEXT)]\n",
        ")"
      ],
      "execution_count": null,
      "outputs": [
        {
          "output_type": "stream",
          "text": [
            "/usr/local/lib/python3.7/dist-packages/torchtext/data/field.py:150: UserWarning: Field class will be retired soon and moved to torchtext.legacy. Please see the most recent release notes for further information.\n",
            "  warnings.warn('{} class will be retired soon and moved to torchtext.legacy. Please see the most recent release notes for further information.'.format(self.__class__.__name__), UserWarning)\n",
            "/usr/local/lib/python3.7/dist-packages/torchtext/data/field.py:150: UserWarning: Field class will be retired soon and moved to torchtext.legacy. Please see the most recent release notes for further information.\n",
            "  warnings.warn('{} class will be retired soon and moved to torchtext.legacy. Please see the most recent release notes for further information.'.format(self.__class__.__name__), UserWarning)\n",
            "/usr/local/lib/python3.7/dist-packages/torchtext/data/example.py:68: UserWarning: Example class will be retired soon and moved to torchtext.legacy. Please see the most recent release notes for further information.\n",
            "  warnings.warn('Example class will be retired soon and moved to torchtext.legacy. Please see the most recent release notes for further information.', UserWarning)\n",
            "/usr/local/lib/python3.7/dist-packages/torchtext/data/example.py:78: UserWarning: Example class will be retired soon and moved to torchtext.legacy. Please see the most recent release notes for further information.\n",
            "  warnings.warn('Example class will be retired soon and moved to torchtext.legacy. Please see the most recent release notes for further information.', UserWarning)\n"
          ],
          "name": "stderr"
        }
      ]
    },
    {
      "cell_type": "code",
      "metadata": {
        "id": "6hS3eltrzeke"
      },
      "source": [
        "ex = dataset.examples[0]"
      ],
      "execution_count": null,
      "outputs": []
    },
    {
      "cell_type": "code",
      "metadata": {
        "id": "FDkn4P9a4H0P",
        "colab": {
          "base_uri": "https://localhost:8080/"
        },
        "outputId": "038e010b-77e1-41a7-ffd7-ccea0f52e7c0"
      },
      "source": [
        "type(ex)"
      ],
      "execution_count": null,
      "outputs": [
        {
          "output_type": "execute_result",
          "data": {
            "text/plain": [
              "torchtext.data.example.Example"
            ]
          },
          "metadata": {
            "tags": []
          },
          "execution_count": 10
        }
      ]
    },
    {
      "cell_type": "code",
      "metadata": {
        "id": "l728QWX3zkxM",
        "colab": {
          "base_uri": "https://localhost:8080/"
        },
        "outputId": "f2e43b59-078d-47d9-d218-f97a8e46740b"
      },
      "source": [
        "ex.data"
      ],
      "execution_count": null,
      "outputs": [
        {
          "output_type": "execute_result",
          "data": {
            "text/plain": [
              "['i', 'like', 'eggs', 'and', 'ham', '.']"
            ]
          },
          "metadata": {
            "tags": []
          },
          "execution_count": 11
        }
      ]
    },
    {
      "cell_type": "code",
      "metadata": {
        "id": "TyO1xB9dzrdY",
        "colab": {
          "base_uri": "https://localhost:8080/",
          "height": 35
        },
        "outputId": "5d6925db-fb4c-4a1d-fcb1-8d1f1584add0"
      },
      "source": [
        "ex.label"
      ],
      "execution_count": null,
      "outputs": [
        {
          "output_type": "execute_result",
          "data": {
            "application/vnd.google.colaboratory.intrinsic+json": {
              "type": "string"
            },
            "text/plain": [
              "'0'"
            ]
          },
          "metadata": {
            "tags": []
          },
          "execution_count": 12
        }
      ]
    },
    {
      "cell_type": "code",
      "metadata": {
        "id": "xmdkw_zFWp9E"
      },
      "source": [
        "train_dataset, test_dataset = dataset.split(0.66) # default is 0.7"
      ],
      "execution_count": null,
      "outputs": []
    },
    {
      "cell_type": "code",
      "metadata": {
        "colab": {
          "base_uri": "https://localhost:8080/"
        },
        "id": "KmTea-vv_Ht5",
        "outputId": "6b186700-40b3-4a43-be31-b364fea99f4a"
      },
      "source": [
        "for ex in train_dataset.examples:\n",
        "  print(ex.data)"
      ],
      "execution_count": null,
      "outputs": [
        {
          "output_type": "stream",
          "text": [
            "['ham', 'and', 'eggs', 'or', 'just', 'ham', '?']\n",
            "['eggs', 'i', 'like', '!']\n"
          ],
          "name": "stdout"
        }
      ]
    },
    {
      "cell_type": "code",
      "metadata": {
        "id": "czCW945vZh8y"
      },
      "source": [
        "TEXT.build_vocab(train_dataset,)"
      ],
      "execution_count": null,
      "outputs": []
    },
    {
      "cell_type": "code",
      "metadata": {
        "id": "56Bz-9U4ZvuE",
        "colab": {
          "base_uri": "https://localhost:8080/"
        },
        "outputId": "c76c08f0-4251-4584-802d-83f46fe97f52"
      },
      "source": [
        "vocab = TEXT.vocab\n",
        "type(vocab)"
      ],
      "execution_count": null,
      "outputs": [
        {
          "output_type": "execute_result",
          "data": {
            "text/plain": [
              "torchtext.vocab.Vocab"
            ]
          },
          "metadata": {
            "tags": []
          },
          "execution_count": 16
        }
      ]
    },
    {
      "cell_type": "code",
      "metadata": {
        "id": "ym__wP2NZy9f",
        "colab": {
          "base_uri": "https://localhost:8080/"
        },
        "outputId": "4bd0149b-0aad-436a-a6e5-8cfd48505722"
      },
      "source": [
        "vocab.stoi"
      ],
      "execution_count": null,
      "outputs": [
        {
          "output_type": "execute_result",
          "data": {
            "text/plain": [
              "defaultdict(<bound method Vocab._default_unk_index of <torchtext.vocab.Vocab object at 0x7f948ea02690>>,\n",
              "            {'!': 4,\n",
              "             '<pad>': 1,\n",
              "             '<unk>': 0,\n",
              "             '?': 5,\n",
              "             'and': 6,\n",
              "             'eggs': 2,\n",
              "             'ham': 3,\n",
              "             'i': 7,\n",
              "             'just': 8,\n",
              "             'like': 9,\n",
              "             'or': 10})"
            ]
          },
          "metadata": {
            "tags": []
          },
          "execution_count": 17
        }
      ]
    },
    {
      "cell_type": "code",
      "metadata": {
        "id": "ZIvdAEh6bfCO",
        "colab": {
          "base_uri": "https://localhost:8080/"
        },
        "outputId": "c1a0e680-1750-4ec0-b8f3-7b36c897bd67"
      },
      "source": [
        "vocab.itos"
      ],
      "execution_count": null,
      "outputs": [
        {
          "output_type": "execute_result",
          "data": {
            "text/plain": [
              "['<unk>', '<pad>', 'eggs', 'ham', '!', '?', 'and', 'i', 'just', 'like', 'or']"
            ]
          },
          "metadata": {
            "tags": []
          },
          "execution_count": 18
        }
      ]
    },
    {
      "cell_type": "code",
      "metadata": {
        "id": "AEtkVKc3YnDx",
        "colab": {
          "base_uri": "https://localhost:8080/"
        },
        "outputId": "7d6fb791-3226-48a9-c84e-245a0a64e8f1"
      },
      "source": [
        "device = torch.device(\"cuda:0\" if torch.cuda.is_available() else \"cpu\")\n",
        "print(device)"
      ],
      "execution_count": null,
      "outputs": [
        {
          "output_type": "stream",
          "text": [
            "cuda:0\n"
          ],
          "name": "stdout"
        }
      ]
    },
    {
      "cell_type": "code",
      "metadata": {
        "id": "iQ7viCd4Xhm4",
        "colab": {
          "base_uri": "https://localhost:8080/"
        },
        "outputId": "99f61c1a-d479-4155-ec07-26ff241c2169"
      },
      "source": [
        "train_iter, test_iter = ttd.Iterator.splits(\n",
        "        (train_dataset, test_dataset), sort_key=lambda x: len(x.data),\n",
        "        batch_sizes=(2, 2), device=device)"
      ],
      "execution_count": null,
      "outputs": [
        {
          "output_type": "stream",
          "text": [
            "/usr/local/lib/python3.7/dist-packages/torchtext/data/iterator.py:48: UserWarning: Iterator class will be retired soon and moved to torchtext.legacy. Please see the most recent release notes for further information.\n",
            "  warnings.warn('{} class will be retired soon and moved to torchtext.legacy. Please see the most recent release notes for further information.'.format(self.__class__.__name__), UserWarning)\n"
          ],
          "name": "stderr"
        }
      ]
    },
    {
      "cell_type": "code",
      "metadata": {
        "id": "rNUrzBMDXvme",
        "colab": {
          "base_uri": "https://localhost:8080/"
        },
        "outputId": "dc4011cd-823f-47d1-80f6-1e5612275ee3"
      },
      "source": [
        "for inputs, targets in train_iter:\n",
        "  print(\"inputs:\", inputs, \"shape:\", inputs.shape)\n",
        "  print(\"targets:\", targets, \"shape:\", targets.shape)\n",
        "  break"
      ],
      "execution_count": null,
      "outputs": [
        {
          "output_type": "stream",
          "text": [
            "/usr/local/lib/python3.7/dist-packages/torchtext/data/batch.py:23: UserWarning: Batch class will be retired soon and moved to torchtext.legacy. Please see the most recent release notes for further information.\n",
            "  warnings.warn('{} class will be retired soon and moved to torchtext.legacy. Please see the most recent release notes for further information.'.format(self.__class__.__name__), UserWarning)\n"
          ],
          "name": "stderr"
        },
        {
          "output_type": "stream",
          "text": [
            "inputs: tensor([[ 1,  1,  1,  2,  7,  9,  4],\n",
            "        [ 3,  6,  2, 10,  8,  3,  5]], device='cuda:0') shape: torch.Size([2, 7])\n",
            "targets: tensor([1, 1], device='cuda:0') shape: torch.Size([2])\n"
          ],
          "name": "stdout"
        }
      ]
    },
    {
      "cell_type": "code",
      "metadata": {
        "id": "1a2N3EffbbF-",
        "colab": {
          "base_uri": "https://localhost:8080/"
        },
        "outputId": "df3e4c36-1e52-42ca-a61c-4f4c85aabb9c"
      },
      "source": [
        "for inputs, targets in test_iter:\n",
        "  print(\"inputs:\", inputs, \"shape:\", inputs.shape)\n",
        "  print(\"targets:\", targets, \"shape:\", targets.shape)\n",
        "  break"
      ],
      "execution_count": null,
      "outputs": [
        {
          "output_type": "stream",
          "text": [
            "inputs: tensor([[7, 9, 2, 6, 3, 0]], device='cuda:0') shape: torch.Size([1, 6])\n",
            "targets: tensor([0], device='cuda:0') shape: torch.Size([1])\n"
          ],
          "name": "stdout"
        },
        {
          "output_type": "stream",
          "text": [
            "/usr/local/lib/python3.7/dist-packages/torchtext/data/batch.py:23: UserWarning: Batch class will be retired soon and moved to torchtext.legacy. Please see the most recent release notes for further information.\n",
            "  warnings.warn('{} class will be retired soon and moved to torchtext.legacy. Please see the most recent release notes for further information.'.format(self.__class__.__name__), UserWarning)\n"
          ],
          "name": "stderr"
        }
      ]
    },
    {
      "cell_type": "code",
      "metadata": {
        "id": "UNatFNLo0oWx"
      },
      "source": [
        "# Exericise: Figure out which sequence of integers goes with which sentence."
      ],
      "execution_count": null,
      "outputs": []
    }
  ]
}