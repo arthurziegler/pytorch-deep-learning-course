{
  "nbformat": 4,
  "nbformat_minor": 0,
  "metadata": {
    "colab": {
      "name": "PyTorch Understanding RNN Shapes.ipynb",
      "provenance": [],
      "collapsed_sections": [],
      "include_colab_link": true
    },
    "kernelspec": {
      "name": "python3",
      "display_name": "Python 3"
    }
  },
  "cells": [
    {
      "cell_type": "markdown",
      "metadata": {
        "id": "view-in-github",
        "colab_type": "text"
      },
      "source": [
        "<a href=\"https://colab.research.google.com/github/arthurziegler/pytorch-deep-learning-course/blob/main/Notebooks/PyTorch_Understanding_RNN_Shapes.ipynb\" target=\"_parent\"><img src=\"https://colab.research.google.com/assets/colab-badge.svg\" alt=\"Open In Colab\"/></a>"
      ]
    },
    {
      "cell_type": "code",
      "metadata": {
        "id": "O37zTNYToHBM"
      },
      "source": [
        "import torch\n",
        "import torch.nn as nn\n",
        "import numpy as np\n",
        "import matplotlib.pyplot as plt"
      ],
      "execution_count": null,
      "outputs": []
    },
    {
      "cell_type": "code",
      "metadata": {
        "id": "27seZQSop2Aq"
      },
      "source": [
        "# Things you should automatically know and have memorized\n",
        "# N = number of samples\n",
        "# T = sequence length\n",
        "# D = number of input features\n",
        "# M = number of hidden units\n",
        "# K = number of output units"
      ],
      "execution_count": null,
      "outputs": []
    },
    {
      "cell_type": "code",
      "metadata": {
        "id": "LtjZu2iAp6OM"
      },
      "source": [
        "# Make some data\n",
        "N = 1\n",
        "T = 10\n",
        "D = 3\n",
        "M = 5\n",
        "K = 2\n",
        "X = np.random.randn(N, T, D)"
      ],
      "execution_count": null,
      "outputs": []
    },
    {
      "cell_type": "code",
      "metadata": {
        "id": "fdBewhacp81e"
      },
      "source": [
        "# Make an RNN\n",
        "class SimpleRNN(nn.Module):\n",
        "  def __init__(self, n_inputs, n_hidden, n_outputs):\n",
        "    super(SimpleRNN, self).__init__()\n",
        "    self.D = n_inputs\n",
        "    self.M = n_hidden\n",
        "    self.K = n_outputs\n",
        "    self.rnn = nn.RNN(\n",
        "        input_size=self.D,\n",
        "        hidden_size=self.M,\n",
        "        nonlinearity='tanh',\n",
        "        batch_first=True)\n",
        "    self.fc = nn.Linear(self.M, self.K)\n",
        "  \n",
        "  def forward(self, X):\n",
        "    # initial hidden states\n",
        "    h0 = torch.zeros(1, X.size(0), self.M)\n",
        "\n",
        "    # get RNN unit output\n",
        "    out, _ = self.rnn(X, h0)\n",
        "\n",
        "    # we only want h(T) at the final time step\n",
        "    # out = self.fc(out[:, -1, :])\n",
        "    out = self.fc(out)\n",
        "    return out"
      ],
      "execution_count": null,
      "outputs": []
    },
    {
      "cell_type": "code",
      "metadata": {
        "id": "YPArOn1VqK6p"
      },
      "source": [
        "# Instantiate the model\n",
        "model = SimpleRNN(n_inputs=D, n_hidden=M, n_outputs=K)"
      ],
      "execution_count": null,
      "outputs": []
    },
    {
      "cell_type": "code",
      "metadata": {
        "id": "cBhtRdsWqesH",
        "colab": {
          "base_uri": "https://localhost:8080/",
          "height": 187
        },
        "outputId": "e6df59a9-5cb7-4521-cb2f-b5fea66106a4"
      },
      "source": [
        "# Get the output\n",
        "inputs = torch.from_numpy(X.astype(np.float32))\n",
        "out = model(inputs)\n",
        "out"
      ],
      "execution_count": null,
      "outputs": [
        {
          "output_type": "execute_result",
          "data": {
            "text/plain": [
              "tensor([[[ 0.3412,  0.3875],\n",
              "         [ 0.2429,  0.3475],\n",
              "         [ 0.2228, -0.0777],\n",
              "         [ 0.1691,  0.1503],\n",
              "         [-0.0489,  0.5948],\n",
              "         [ 0.2913,  0.2771],\n",
              "         [-0.0660,  0.7480],\n",
              "         [ 0.4096,  0.2019],\n",
              "         [ 0.3737,  0.1150],\n",
              "         [ 0.2932, -0.0769]]], grad_fn=<AddBackward0>)"
            ]
          },
          "metadata": {
            "tags": []
          },
          "execution_count": 6
        }
      ]
    },
    {
      "cell_type": "code",
      "metadata": {
        "id": "ZtWi7zpiHytS",
        "colab": {
          "base_uri": "https://localhost:8080/",
          "height": 34
        },
        "outputId": "b21f90a0-ea7b-4e21-8d32-060d2bf15dea"
      },
      "source": [
        "out.shape"
      ],
      "execution_count": null,
      "outputs": [
        {
          "output_type": "execute_result",
          "data": {
            "text/plain": [
              "torch.Size([1, 10, 2])"
            ]
          },
          "metadata": {
            "tags": []
          },
          "execution_count": 7
        }
      ]
    },
    {
      "cell_type": "code",
      "metadata": {
        "id": "ElomWG3CHM-u"
      },
      "source": [
        "# Save for later\n",
        "Yhats_torch = out.detach().numpy()"
      ],
      "execution_count": null,
      "outputs": []
    },
    {
      "cell_type": "code",
      "metadata": {
        "id": "2hbbkp9rqx-V"
      },
      "source": [
        "W_xh, W_hh, b_xh, b_hh = model.rnn.parameters()"
      ],
      "execution_count": null,
      "outputs": []
    },
    {
      "cell_type": "code",
      "metadata": {
        "id": "n5I00hv6I3Gf",
        "colab": {
          "base_uri": "https://localhost:8080/",
          "height": 34
        },
        "outputId": "f834d8e0-95cf-4835-ec21-0831cda05a8c"
      },
      "source": [
        "W_xh.shape"
      ],
      "execution_count": null,
      "outputs": [
        {
          "output_type": "execute_result",
          "data": {
            "text/plain": [
              "torch.Size([5, 3])"
            ]
          },
          "metadata": {
            "tags": []
          },
          "execution_count": 10
        }
      ]
    },
    {
      "cell_type": "code",
      "metadata": {
        "id": "4DHhFRFQrLE4",
        "colab": {
          "base_uri": "https://localhost:8080/",
          "height": 119
        },
        "outputId": "9fd10d70-9395-4612-9c9f-833b60efa0cf"
      },
      "source": [
        "W_xh"
      ],
      "execution_count": null,
      "outputs": [
        {
          "output_type": "execute_result",
          "data": {
            "text/plain": [
              "Parameter containing:\n",
              "tensor([[ 0.1991, -0.1659,  0.3862],\n",
              "        [-0.1038,  0.1998,  0.2228],\n",
              "        [ 0.2377,  0.2534, -0.4395],\n",
              "        [-0.2058,  0.4410, -0.0693],\n",
              "        [ 0.3054,  0.3011,  0.0590]], requires_grad=True)"
            ]
          },
          "metadata": {
            "tags": []
          },
          "execution_count": 11
        }
      ]
    },
    {
      "cell_type": "code",
      "metadata": {
        "id": "484rEtjsrNFh",
        "colab": {
          "base_uri": "https://localhost:8080/",
          "height": 102
        },
        "outputId": "817242be-df08-4c72-bddd-566eca362daf"
      },
      "source": [
        "W_xh = W_xh.data.numpy()\n",
        "W_xh"
      ],
      "execution_count": null,
      "outputs": [
        {
          "output_type": "execute_result",
          "data": {
            "text/plain": [
              "array([[ 0.19913203, -0.16591424,  0.38615942],\n",
              "       [-0.10381901,  0.19977957,  0.22281706],\n",
              "       [ 0.23766339,  0.25335354, -0.4395464 ],\n",
              "       [-0.20575394,  0.4410168 , -0.06931382],\n",
              "       [ 0.30540317,  0.3010537 ,  0.05902731]], dtype=float32)"
            ]
          },
          "metadata": {
            "tags": []
          },
          "execution_count": 12
        }
      ]
    },
    {
      "cell_type": "code",
      "metadata": {
        "id": "czeD6VkArpDf"
      },
      "source": [
        "b_xh = b_xh.data.numpy()\n",
        "W_hh = W_hh.data.numpy()\n",
        "b_hh = b_hh.data.numpy()"
      ],
      "execution_count": null,
      "outputs": []
    },
    {
      "cell_type": "code",
      "metadata": {
        "id": "4kmrm-SOrvIf",
        "colab": {
          "base_uri": "https://localhost:8080/",
          "height": 34
        },
        "outputId": "9ed3ae71-4e6c-4f2e-de1c-03f5e8e8640c"
      },
      "source": [
        "# Did we do it right?\n",
        "W_xh.shape, b_xh.shape, W_hh.shape, b_hh.shape"
      ],
      "execution_count": null,
      "outputs": [
        {
          "output_type": "execute_result",
          "data": {
            "text/plain": [
              "((5, 3), (5,), (5, 5), (5,))"
            ]
          },
          "metadata": {
            "tags": []
          },
          "execution_count": 14
        }
      ]
    },
    {
      "cell_type": "code",
      "metadata": {
        "id": "LGagznQWsaZy"
      },
      "source": [
        "# Now get the FC layer weights\n",
        "Wo, bo = model.fc.parameters()"
      ],
      "execution_count": null,
      "outputs": []
    },
    {
      "cell_type": "code",
      "metadata": {
        "id": "dnlLdwjfsfNa",
        "colab": {
          "base_uri": "https://localhost:8080/",
          "height": 34
        },
        "outputId": "a358cd2a-dc81-4543-cfc1-820b2d24f09a"
      },
      "source": [
        "Wo = Wo.data.numpy()\n",
        "bo = bo.data.numpy()\n",
        "Wo.shape, bo.shape"
      ],
      "execution_count": null,
      "outputs": [
        {
          "output_type": "execute_result",
          "data": {
            "text/plain": [
              "((2, 5), (2,))"
            ]
          },
          "metadata": {
            "tags": []
          },
          "execution_count": 16
        }
      ]
    },
    {
      "cell_type": "code",
      "metadata": {
        "id": "PUsPqqO4sA3A",
        "colab": {
          "base_uri": "https://localhost:8080/",
          "height": 187
        },
        "outputId": "81a72b08-c5d2-4f51-e3cd-b1a28786f4b5"
      },
      "source": [
        "# See if we can replicate the output\n",
        "h_last = np.zeros(M) # initial hidden state\n",
        "x = X[0] # the one and only sample\n",
        "Yhats = np.zeros((T, K)) # where we store the outputs\n",
        "\n",
        "for t in range(T):\n",
        "  h = np.tanh(x[t].dot(W_xh.T) + b_xh + h_last.dot(W_hh.T) + b_hh)\n",
        "  y = h.dot(Wo.T) + bo # we only care about this value on the last iteration\n",
        "  Yhats[t] = y\n",
        "  \n",
        "  # important: assign h to h_last\n",
        "  h_last = h\n",
        "\n",
        "# print the final output\n",
        "print(Yhats)"
      ],
      "execution_count": null,
      "outputs": [
        {
          "output_type": "stream",
          "text": [
            "[[ 0.34121065  0.38745031]\n",
            " [ 0.24290176  0.34748834]\n",
            " [ 0.22276316 -0.0776559 ]\n",
            " [ 0.16914628  0.15032023]\n",
            " [-0.04893893  0.59482221]\n",
            " [ 0.29125264  0.27710128]\n",
            " [-0.06601527  0.74795336]\n",
            " [ 0.40959356  0.20187585]\n",
            " [ 0.37368858  0.11500061]\n",
            " [ 0.29322981 -0.07689164]]\n"
          ],
          "name": "stdout"
        }
      ]
    },
    {
      "cell_type": "code",
      "metadata": {
        "id": "q-Bz_OjvHE5a",
        "colab": {
          "base_uri": "https://localhost:8080/",
          "height": 34
        },
        "outputId": "8f91d889-74ba-4eba-c043-dde9abb41af7"
      },
      "source": [
        "# Check\n",
        "np.allclose(Yhats, Yhats_torch)"
      ],
      "execution_count": null,
      "outputs": [
        {
          "output_type": "execute_result",
          "data": {
            "text/plain": [
              "True"
            ]
          },
          "metadata": {
            "tags": []
          },
          "execution_count": 18
        }
      ]
    },
    {
      "cell_type": "code",
      "metadata": {
        "id": "EqBvQHTvuDy8"
      },
      "source": [
        "# Bonus exercise: calculate the output for multiple samples at once (N > 1)"
      ],
      "execution_count": null,
      "outputs": []
    }
  ]
}