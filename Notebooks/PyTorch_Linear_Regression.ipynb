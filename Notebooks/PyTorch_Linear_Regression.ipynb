{
  "nbformat": 4,
  "nbformat_minor": 0,
  "metadata": {
    "colab": {
      "name": "PyTorch Linear Regression.ipynb",
      "provenance": [],
      "collapsed_sections": [],
      "include_colab_link": true
    },
    "kernelspec": {
      "name": "python3",
      "display_name": "Python 3"
    },
    "accelerator": "GPU"
  },
  "cells": [
    {
      "cell_type": "markdown",
      "metadata": {
        "id": "view-in-github",
        "colab_type": "text"
      },
      "source": [
        "<a href=\"https://colab.research.google.com/github/arthurziegler/pytorch-deep-learning-course/blob/main/Notebooks/PyTorch_Linear_Regression.ipynb\" target=\"_parent\"><img src=\"https://colab.research.google.com/assets/colab-badge.svg\" alt=\"Open In Colab\"/></a>"
      ]
    },
    {
      "cell_type": "code",
      "metadata": {
        "id": "qsLqViekTo-d"
      },
      "source": [
        "import torch\n",
        "import torch.nn as nn\n",
        "import numpy as np\n",
        "import matplotlib.pyplot as plt"
      ],
      "execution_count": 1,
      "outputs": []
    },
    {
      "cell_type": "code",
      "metadata": {
        "id": "JPNNOW5CZXd3"
      },
      "source": [
        "# we would like to generate 20 data points\n",
        "N = 20\n",
        "\n",
        "# random data on the x-axis in (-5, +5)\n",
        "X = np.random.random(N)*10 - 5\n",
        "\n",
        "# a line plus some noise\n",
        "Y = 0.5 * X - 1 + np.random.randn(N)\n",
        "\n",
        "# you'll have to take my \"in-depth\" series to understand\n",
        "# why this is the CORRECT model to use with our MSE loss"
      ],
      "execution_count": 3,
      "outputs": []
    },
    {
      "cell_type": "code",
      "metadata": {
        "id": "1BuaVYUCZZhR",
        "colab": {
          "base_uri": "https://localhost:8080/",
          "height": 265
        },
        "outputId": "f4dbead8-080a-4858-d943-41164a832230"
      },
      "source": [
        "# Plot the data\n",
        "plt.scatter(X, Y);"
      ],
      "execution_count": 4,
      "outputs": [
        {
          "output_type": "display_data",
          "data": {
            "image/png": "[encoded data removed]",
            "text/plain": [
              "<Figure size 432x288 with 1 Axes>"
            ]
          },
          "metadata": {
            "tags": [],
            "needs_background": "light"
          }
        }
      ]
    },
    {
      "cell_type": "code",
      "metadata": {
        "id": "N2NcT0z5W1Um"
      },
      "source": [
        "# Create the linear regression model\n",
        "model = nn.Linear(1, 1)"
      ],
      "execution_count": 5,
      "outputs": []
    },
    {
      "cell_type": "code",
      "metadata": {
        "id": "rvZW03cqW6SS"
      },
      "source": [
        "# Loss and optimizer\n",
        "criterion = nn.MSELoss()\n",
        "optimizer = torch.optim.SGD(model.parameters(), lr=0.1)"
      ],
      "execution_count": 6,
      "outputs": []
    },
    {
      "cell_type": "code",
      "metadata": {
        "id": "vPrBVibsaWoj"
      },
      "source": [
        "# In ML we want our data to be of shape:\n",
        "# (num_samples x num_dimensions)\n",
        "X = X.reshape(N, 1)\n",
        "Y = Y.reshape(N, 1)\n",
        "\n",
        "# PyTorch uses float32 by default\n",
        "# Numpy creates float64 by default\n",
        "inputs = torch.from_numpy(X.astype(np.float32))\n",
        "targets = torch.from_numpy(Y.astype(np.float32))"
      ],
      "execution_count": 7,
      "outputs": []
    },
    {
      "cell_type": "code",
      "metadata": {
        "id": "5Zd0PFWBaanm",
        "colab": {
          "base_uri": "https://localhost:8080/"
        },
        "outputId": "67166faf-fffb-4327-b5b4-cd25a5fdc806"
      },
      "source": [
        "type(inputs)"
      ],
      "execution_count": 8,
      "outputs": [
        {
          "output_type": "execute_result",
          "data": {
            "text/plain": [
              "torch.Tensor"
            ]
          },
          "metadata": {
            "tags": []
          },
          "execution_count": 8
        }
      ]
    },
    {
      "cell_type": "code",
      "metadata": {
        "id": "LnGJqtXSW_eV",
        "colab": {
          "base_uri": "https://localhost:8080/"
        },
        "outputId": "293aeebf-169e-48e4-d3c4-3bf9a1aa42ef"
      },
      "source": [
        "# Train the model\n",
        "n_epochs = 30\n",
        "losses = []\n",
        "for it in range(n_epochs):\n",
        "  # zero the parameter gradients\n",
        "  optimizer.zero_grad()\n",
        "\n",
        "  # Forward pass\n",
        "  outputs = model(inputs)\n",
        "  loss = criterion(outputs, targets)\n",
        "\n",
        "  # keep the loss so we can plot it later\n",
        "  losses.append(loss.item())\n",
        "    \n",
        "  # Backward and optimize\n",
        "  loss.backward()\n",
        "  optimizer.step()\n",
        "    \n",
        "  print(f'Epoch {it+1}/{n_epochs}, Loss: {loss.item():.4f}')"
      ],
      "execution_count": 9,
      "outputs": [
        {
          "output_type": "stream",
          "text": [
            "Epoch 1/30, Loss: 2.1391\n",
            "Epoch 2/30, Loss: 1.6687\n",
            "Epoch 3/30, Loss: 1.3616\n",
            "Epoch 4/30, Loss: 1.1611\n",
            "Epoch 5/30, Loss: 1.0300\n",
            "Epoch 6/30, Loss: 0.9444\n",
            "Epoch 7/30, Loss: 0.8883\n",
            "Epoch 8/30, Loss: 0.8516\n",
            "Epoch 9/30, Loss: 0.8276\n",
            "Epoch 10/30, Loss: 0.8118\n",
            "Epoch 11/30, Loss: 0.8015\n",
            "Epoch 12/30, Loss: 0.7947\n",
            "Epoch 13/30, Loss: 0.7902\n",
            "Epoch 14/30, Loss: 0.7873\n",
            "Epoch 15/30, Loss: 0.7854\n",
            "Epoch 16/30, Loss: 0.7841\n",
            "Epoch 17/30, Loss: 0.7832\n",
            "Epoch 18/30, Loss: 0.7827\n",
            "Epoch 19/30, Loss: 0.7823\n",
            "Epoch 20/30, Loss: 0.7821\n",
            "Epoch 21/30, Loss: 0.7819\n",
            "Epoch 22/30, Loss: 0.7818\n",
            "Epoch 23/30, Loss: 0.7817\n",
            "Epoch 24/30, Loss: 0.7817\n",
            "Epoch 25/30, Loss: 0.7816\n",
            "Epoch 26/30, Loss: 0.7816\n",
            "Epoch 27/30, Loss: 0.7816\n",
            "Epoch 28/30, Loss: 0.7816\n",
            "Epoch 29/30, Loss: 0.7816\n",
            "Epoch 30/30, Loss: 0.7816\n"
          ],
          "name": "stdout"
        }
      ]
    },
    {
      "cell_type": "code",
      "metadata": {
        "id": "TtlOBCCyxSda",
        "colab": {
          "base_uri": "https://localhost:8080/",
          "height": 268
        },
        "outputId": "747874bb-baba-496a-a05a-b33ce83227f0"
      },
      "source": [
        "# Plot the loss per iteration\n",
        "plt.plot(losses);"
      ],
      "execution_count": 10,
      "outputs": [
        {
          "output_type": "display_data",
          "data": {
            "image/png": "[encoded data removed]",
            "text/plain": [
              "<Figure size 432x288 with 1 Axes>"
            ]
          },
          "metadata": {
            "tags": [],
            "needs_background": "light"
          }
        }
      ]
    },
    {
      "cell_type": "code",
      "metadata": {
        "id": "cQcBiTDSbjRr",
        "colab": {
          "base_uri": "https://localhost:8080/",
          "height": 265
        },
        "outputId": "2b6866f1-562d-4924-be2e-9d307e778aca"
      },
      "source": [
        "# Plot the graph\n",
        "predicted = model(inputs).detach().numpy()\n",
        "plt.scatter(X, Y, label='Original data')\n",
        "plt.plot(X, predicted, label='Fitted line')\n",
        "plt.legend()\n",
        "plt.show()"
      ],
      "execution_count": 15,
      "outputs": [
        {
          "output_type": "display_data",
          "data": {
            "image/png": "[encoded data removed]",
            "text/plain": [
              "<Figure size 432x288 with 1 Axes>"
            ]
          },
          "metadata": {
            "tags": [],
            "needs_background": "light"
          }
        }
      ]
    },
    {
      "cell_type": "code",
      "metadata": {
        "id": "2fewYK_fkRpe",
        "colab": {
          "base_uri": "https://localhost:8080/",
          "height": 164
        },
        "outputId": "29cc8068-4062-4851-d92e-57b04831e150"
      },
      "source": [
        "# Error!\n",
        "model(inputs).numpy()"
      ],
      "execution_count": null,
      "outputs": [
        {
          "output_type": "error",
          "ename": "RuntimeError",
          "evalue": "ignored",
          "traceback": [
            "\u001b[0;31m---------------------------------------------------------------------------\u001b[0m",
            "\u001b[0;31mRuntimeError\u001b[0m                              Traceback (most recent call last)",
            "\u001b[0;32m<ipython-input-685-4ec109debb8c>\u001b[0m in \u001b[0;36m<module>\u001b[0;34m()\u001b[0m\n\u001b[0;32m----> 1\u001b[0;31m \u001b[0mmodel\u001b[0m\u001b[0;34m(\u001b[0m\u001b[0minputs\u001b[0m\u001b[0;34m)\u001b[0m\u001b[0;34m.\u001b[0m\u001b[0mnumpy\u001b[0m\u001b[0;34m(\u001b[0m\u001b[0;34m)\u001b[0m\u001b[0;34m\u001b[0m\u001b[0;34m\u001b[0m\u001b[0m\n\u001b[0m",
            "\u001b[0;31mRuntimeError\u001b[0m: Can't call numpy() on Variable that requires grad. Use var.detach().numpy() instead."
          ]
        }
      ]
    },
    {
      "cell_type": "code",
      "metadata": {
        "id": "4U2GDt2Ck6cB",
        "colab": {
          "base_uri": "https://localhost:8080/"
        },
        "outputId": "a5741950-e735-42a0-f7b2-d3228b981042"
      },
      "source": [
        "# Another way\n",
        "with torch.no_grad():\n",
        "  out = model(inputs).numpy()\n",
        "out"
      ],
      "execution_count": 16,
      "outputs": [
        {
          "output_type": "execute_result",
          "data": {
            "text/plain": [
              "array([[ 0.131087  ],\n",
              "       [-2.0206497 ],\n",
              "       [-0.01450294],\n",
              "       [ 1.0087428 ],\n",
              "       [ 0.715241  ],\n",
              "       [-3.3011029 ],\n",
              "       [-2.2019322 ],\n",
              "       [-2.2702734 ],\n",
              "       [-0.8603745 ],\n",
              "       [-1.9424872 ],\n",
              "       [-3.2300723 ],\n",
              "       [-2.484468  ],\n",
              "       [-3.6159832 ],\n",
              "       [-1.7484181 ],\n",
              "       [-3.3436406 ],\n",
              "       [ 0.7135363 ],\n",
              "       [ 1.7780023 ],\n",
              "       [ 1.2692208 ],\n",
              "       [-0.19686353],\n",
              "       [-0.82058877]], dtype=float32)"
            ]
          },
          "metadata": {
            "tags": []
          },
          "execution_count": 16
        }
      ]
    },
    {
      "cell_type": "code",
      "metadata": {
        "id": "HyWDprSQP5ON",
        "colab": {
          "base_uri": "https://localhost:8080/"
        },
        "outputId": "9bbd1c71-c8ab-4e42-ad68-85ca199543b4"
      },
      "source": [
        "# Important!\n",
        "# In order to test the efficacy of our model, synthetic data is useful\n",
        "# Why?\n",
        "# Because ***we know the answer***\n",
        "# True values of (w, b) are (0.5, -1)\n",
        "w = model.weight.data.numpy()\n",
        "b = model.bias.data.numpy()\n",
        "print(w, b)"
      ],
      "execution_count": 17,
      "outputs": [
        {
          "output_type": "stream",
          "text": [
            "[[0.55809754]] [-0.8636897]\n"
          ],
          "name": "stdout"
        }
      ]
    },
    {
      "cell_type": "code",
      "metadata": {
        "id": "3vNWezSmOUyS"
      },
      "source": [
        ""
      ],
      "execution_count": null,
      "outputs": []
    }
  ]
}